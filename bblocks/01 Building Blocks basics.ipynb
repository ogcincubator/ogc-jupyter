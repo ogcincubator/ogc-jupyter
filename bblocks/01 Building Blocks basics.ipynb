{
 "cells": [
  {
   "cell_type": "markdown",
   "id": "9aa2f4eb-a5ff-4287-b426-874330ca181a",
   "metadata": {},
   "source": [
    "# Prerequisites"
   ]
  },
  {
   "cell_type": "markdown",
   "id": "55cf204a-8e3a-4cb4-bbb0-3747a36dd7ee",
   "metadata": {},
   "source": [
    "Since most of resources are retrieved from URLs, **this notepad requires an Internet connection** to work."
   ]
  },
  {
   "cell_type": "code",
   "execution_count": 1,
   "id": "313fe823-0e5e-4f88-9e47-45ccc8323fa4",
   "metadata": {},
   "outputs": [],
   "source": [
    "from collections import deque\n",
    "import json, sys                           # always handy\n",
    "from pprint import pprint                  # for pretty printing\n",
    "from urllib.request import urlopen         # for http requests\n",
    "import jsonschema                          # for JSON Schema validations\n",
    "from rdflib import Graph, RDF, Namespace   # for handling RDF data\n",
    "import jq                                  # for JQ transforms\n",
    "import pyshacl                             # for SHACL validation and entailment\n",
    "\n",
    "# Convenience function to retrieve remote JSON data\n",
    "def fetch_json(url: str):\n",
    "  print(f\"Fetching {url}... \", end='')\n",
    "  with urlopen(url) as f:\n",
    "    print('ok')\n",
    "    return json.load(f)"
   ]
  },
  {
   "cell_type": "markdown",
   "id": "25476014-c427-4518-a6f5-d6768f01e8a6",
   "metadata": {},
   "source": [
    "# Loading a Building Blocks register\n",
    "\n",
    "To load a Building Blocks register, we start from its `register.json` file, and we load its imports recursively."
   ]
  },
  {
   "cell_type": "code",
   "execution_count": 2,
   "id": "66522043-aee8-416b-9347-cb5474cb9993",
   "metadata": {},
   "outputs": [
    {
     "name": "stdout",
     "output_type": "stream",
     "text": [
      "Fetching https://ogcincubator.github.io/bblocks-examples/build/register.json... ok\n",
      "Loaded registers:\n",
      " https://ogcincubator.github.io/bblocks-examples/build/register.json\n",
      "Building blocks in my register (https://ogcincubator.github.io/bblocks-examples/build/register.json):\n",
      " ogc.bbr.examples.feature.externalSchema\n",
      " ogc.bbr.examples.feature.geojsonFeature\n",
      " ogc.bbr.examples.feature.geojsonFeatureFGLenient\n",
      " ogc.bbr.examples.feature.geosparqlFeature\n",
      " ogc.bbr.examples.feature.propertySet\n",
      " ogc.bbr.examples.observation.vectorObservation\n",
      " ogc.bbr.examples.observation.vectorObservationFeature\n",
      " ogc.bbr.examples.semantic-uplift.pre-and-post-uplift\n",
      " ogc.bbr.examples.transforms.transforms-example\n"
     ]
    }
   ],
   "source": [
    "my_register_url = 'https://ogcincubator.github.io/bblocks-examples/build/register.json'\n",
    "loaded_registers = {}\n",
    "pending_registers = deque((my_register_url,))\n",
    "while pending_registers:\n",
    "  register_url = pending_registers.popleft()\n",
    "  if register_url in loaded_registers:\n",
    "    # Do not load imports more than once\n",
    "    continue\n",
    "  # Fetch register.json\n",
    "  register = fetch_json(register_url)\n",
    "  loaded_registers[register_url] = register\n",
    "  # Add new imports to queue\n",
    "  pending_registers.extend(loaded_registers.get('imports', []))\n",
    "\n",
    "# We will be using this later on\n",
    "my_register = loaded_registers[my_register_url]\n",
    "# Index bblocks by itemIdentifier\n",
    "my_bblocks = {bblock['itemIdentifier']: bblock for bblock in my_register['bblocks']}\n",
    "\n",
    "print('Loaded registers:\\n', '\\n '.join(loaded_registers.keys()))\n",
    "print(f'Building blocks in my register ({my_register_url}):\\n',\n",
    "      '\\n '.join(sorted(my_bblocks.keys())))"
   ]
  },
  {
   "cell_type": "markdown",
   "id": "2d7d4224-ffb0-49d6-a57a-01b0111c0d88",
   "metadata": {},
   "source": [
    "# Exploring a Building Block\n",
    "\n",
    "Let us select a Building Block (`ogc.bbr.examples.observation.vectorObservationFeature`) and explore its metadata and resources:"
   ]
  },
  {
   "cell_type": "code",
   "execution_count": 3,
   "id": "e94ce052-6d06-45c8-a82f-b2df7688526f",
   "metadata": {},
   "outputs": [
    {
     "name": "stdout",
     "output_type": "stream",
     "text": [
      "# ogc.bbr.examples.semantic-uplift.pre-and-post-uplift - Pre and Post Semantic Uplift example\n",
      "A sample building block to show how semantic uplift can be customized \n",
      "\n",
      "## Metadata properties\n",
      " itemIdentifier\n",
      " name\n",
      " abstract\n",
      " status\n",
      " dateTimeAddition\n",
      " itemClass\n",
      " version\n",
      " dateOfLastChange\n",
      " shaclRules\n",
      " ldContext\n",
      " schema\n",
      " sourceSchema\n",
      " sourceLdContext\n",
      " sourceFiles\n",
      " rdfData\n",
      " validationPassed\n",
      " testOutputs\n",
      " documentation\n"
     ]
    }
   ],
   "source": [
    "bblock_id = 'ogc.bbr.examples.semantic-uplift.pre-and-post-uplift'\n",
    "bblock = my_bblocks[bblock_id]\n",
    "print(f\"# {bblock['itemIdentifier']} - {bblock['name']}\")\n",
    "print(bblock['abstract'], '\\n')\n",
    "print('## Metadata properties')\n",
    "print('', '\\n '.join(bblock.keys()))"
   ]
  },
  {
   "cell_type": "markdown",
   "id": "364eeeca-a458-4d2b-8078-e6966d6c2ffc",
   "metadata": {},
   "source": [
    "## Validating data with a JSON schema\n",
    "\n",
    "The building blocks offer JSON schemas both in YAML and JSON format. We can validate a given JSON document against the building block's schema. Let us use an invalid example (notice how the required property `one` is spelled as `One`)."
   ]
  },
  {
   "cell_type": "code",
   "execution_count": 4,
   "id": "d9acb84f-cfdd-4aec-8db4-41383951a4e9",
   "metadata": {},
   "outputs": [
    {
     "name": "stdout",
     "output_type": "stream",
     "text": [
      "JSON Schema formats: application/yaml, application/json\n",
      "Fetching https://ogcincubator.github.io/bblocks-examples/build/annotated/bbr/examples/semantic-uplift/pre-and-post-uplift/schema.json... ok\n",
      "{\n",
      "  \"type\": \"object\",\n",
      "  \"properties\": {\n",
      "    \"one\": {\n",
      "      \"type\": \"number\",\n",
      "      \"x-jsonld-id\": \"http://example.com/hasOne\"\n",
      "    },\n",
      "    \"two\": {\n",
      "      \"type\": \"number\",\n",
      "      \"x-jsonld-id\": \"http://example.com/hasTwo\"\n",
      "    },\n",
      "    \"string\": {\n",
      "      \"type\": \"string\",\n",
      "      \"x-jsonld-id\": \"http://example.com/hasString\"\n",
      "    }\n",
      "  },\n",
      "  \"required\": [\n",
      "    \"one\"\n",
      "  ],\n",
      "  \"x-jsonld-extra-terms\": {\n",
      "    \"three\": \"http://example.com/exHasGenThree\",\n",
      "    \"doubleString\": \"http://example.com/hasGenDoubleString\"\n",
      "  },\n",
      "  \"x-jsonld-prefixes\": {\n",
      "    \"ex\": \"http://example.com/\"\n",
      "  }\n",
      "}\n"
     ]
    },
    {
     "name": "stderr",
     "output_type": "stream",
     "text": [
      "ValidationError!\n",
      "'one' is a required property\n",
      "\n",
      "Failed validating 'required' in schema:\n",
      "    {'properties': {'one': {'type': 'number',\n",
      "                            'x-jsonld-id': 'http://example.com/hasOne'},\n",
      "                    'string': {'type': 'string',\n",
      "                               'x-jsonld-id': 'http://example.com/hasString'},\n",
      "                    'two': {'type': 'number',\n",
      "                            'x-jsonld-id': 'http://example.com/hasTwo'}},\n",
      "     'required': ['one'],\n",
      "     'type': 'object',\n",
      "     'x-jsonld-extra-terms': {'doubleString': 'http://example.com/hasGenDoubleString',\n",
      "                              'three': 'http://example.com/exHasGenThree'},\n",
      "     'x-jsonld-prefixes': {'ex': 'http://example.com/'}}\n",
      "\n",
      "On instance:\n",
      "    {'One': 1, 'string': 'value', 'two': 2}\n"
     ]
    }
   ],
   "source": [
    "if not bblock.get('schema'):\n",
    "  print('This bblock has no schema')\n",
    "  sample_data = None\n",
    "else:\n",
    "  print('JSON Schema formats:', ', '.join(bblock['schema'].keys()))\n",
    "  bblock_schema = fetch_json(bblock['schema']['application/json'])\n",
    "  print(json.dumps(bblock_schema, indent=2))\n",
    "  # Sample data adapted from one of the actual bblock examples.\n",
    "  sample_data = json.loads(\n",
    "  \"\"\"\n",
    "  {\n",
    "    \"One\": 1,\n",
    "    \"two\": 2,\n",
    "    \"string\": \"value\"\n",
    "  }\n",
    "  \"\"\")\n",
    "  try:\n",
    "    jsonschema.validate(instance=sample_data, schema=bblock_schema) # An exception is shown\n",
    "    print('Validation finished without errors')\n",
    "  except jsonschema.exceptions.ValidationError as e:\n",
    "    print('ValidationError!', file=sys.stderr)\n",
    "    print(e, file=sys.stderr)"
   ]
  },
  {
   "cell_type": "markdown",
   "id": "80c47dfc-3ceb-40c6-bac7-8d4f1c8f6881",
   "metadata": {},
   "source": [
    "Now let us fix the sample data and retry validation:"
   ]
  },
  {
   "cell_type": "code",
   "execution_count": 5,
   "id": "9d6b4d08-6011-46d4-9134-ca79545611c5",
   "metadata": {},
   "outputs": [
    {
     "name": "stdout",
     "output_type": "stream",
     "text": [
      "Validation finished without errors\n"
     ]
    }
   ],
   "source": [
    "if sample_data:\n",
    "  if 'one' not in sample_data: # Just in case this block is run more than once\n",
    "    sample_data['one'] = sample_data.pop('One')\n",
    "  try:\n",
    "    jsonschema.validate(instance=sample_data, schema=bblock_schema) # No exception should be thrown\n",
    "    print('Validation finished without errors')\n",
    "  except jsonschema.exceptions.ValidationError as e:\n",
    "    print('ValidationError!', file=sys.stderr)\n",
    "    print(e, file=sys.stderr)"
   ]
  },
  {
   "cell_type": "markdown",
   "id": "4a1abf0a-7990-4f57-b556-fce9c3324f05",
   "metadata": {},
   "source": [
    "## Getting extended metadata\n",
    "\n",
    "All building blocks contain additional metadata that is stored in JSON format. The URL for this metadata resides inside the `documentation` property; for the JSON description, we need the `json-full` entry.\n",
    "\n",
    "For instance, semantic uplift steps and full examples are embedded into this new metadata."
   ]
  },
  {
   "cell_type": "code",
   "execution_count": 6,
   "id": "99f3f7a7-0173-4217-8c60-0068784b49ee",
   "metadata": {},
   "outputs": [
    {
     "name": "stdout",
     "output_type": "stream",
     "text": [
      "Fetching https://ogcincubator.github.io/bblocks-examples/build/generateddocs/json-full/bbr/examples/semantic-uplift/pre-and-post-uplift/index.json... ok\n",
      "## New metadata keys\n",
      " description\n",
      " examples\n",
      " annotatedSchema\n",
      " semanticUplift\n",
      " gitRepository\n",
      " gitPath \n",
      "\n",
      "### Examples\n",
      " - Example for uplift; Snippet languages: json, jsonld, ttl\n"
     ]
    }
   ],
   "source": [
    "bblock_full = fetch_json(bblock['documentation']['json-full']['url'])\n",
    "print('## New metadata keys')\n",
    "print('', '\\n '.join(k for k in bblock_full.keys() if k not in bblock), '\\n')\n",
    "print('### Examples')\n",
    "for example in bblock_full['examples']:\n",
    "  print(f\" - {example['title']}; Snippet languages:\", ', '.join(s['language'] for s in example['snippets']))"
   ]
  },
  {
   "cell_type": "markdown",
   "id": "f7fcfcd5-dfcf-49ad-b3fe-5ab5483e9d76",
   "metadata": {},
   "source": [
    "## Semantic uplift\n",
    "\n",
    "If our building block provides a JSON-LD context (and, possibly, semantic uplift steps), we can add it to our object and see the resulting RDF."
   ]
  },
  {
   "cell_type": "code",
   "execution_count": 7,
   "id": "37086fdd-afc1-47cd-91e3-725694e48c2d",
   "metadata": {},
   "outputs": [
    {
     "name": "stdout",
     "output_type": "stream",
     "text": [
      "# Input data\n",
      "{\n",
      "  \"two\": 2,\n",
      "  \"string\": \"value\",\n",
      "  \"one\": 1\n",
      "}\n",
      "  -> Applying pre jq step\n",
      "\n",
      "# After pre steps\n",
      "{\n",
      "  \"two\": 2,\n",
      "  \"string\": \"value\",\n",
      "  \"one\": 1,\n",
      "  \"three\": 3,\n",
      "  \"doubleString\": \"valuevalue\"\n",
      "}\n",
      "Fetching https://ogcincubator.github.io/bblocks-examples/build/annotated/bbr/examples/semantic-uplift/pre-and-post-uplift/context.jsonld... ok\n",
      "\n",
      "# After JSON-LD context\n",
      "@prefix ex: <http://example.com/> .\n",
      "@prefix xsd: <http://www.w3.org/2001/XMLSchema#> .\n",
      "\n",
      "[] ex:exHasGenThree 3 ;\n",
      "    ex:hasGenDoubleString \"valuevalue\" ;\n",
      "    ex:hasOne 1 ;\n",
      "    ex:hasString \"value\" ;\n",
      "    ex:hasTwo 2 .\n",
      "\n",
      "\n",
      "  -> Applying post sparql-update step\n",
      "\n",
      "# After post steps context\n",
      "@prefix ex: <http://example.com/> .\n",
      "@prefix ns1: <https://example.net/2/> .\n",
      "@prefix xsd: <http://www.w3.org/2001/XMLSchema#> .\n",
      "\n",
      "[] ex:exHasGenThree 3 ;\n",
      "    ex:hasGenDoubleString \"valuevalue\" ;\n",
      "    ex:hasOne 1 ;\n",
      "    ex:hasString \"value\" ;\n",
      "    ex:hasTwo 2 ;\n",
      "    ns1:hasFour 4 ;\n",
      "    ns1:nineBound false .\n",
      "\n",
      "\n"
     ]
    }
   ],
   "source": [
    "if bblock.get('ldContext'):\n",
    "  def apply_uplift_steps(bblock: dict, stage: str, data):\n",
    "    for step in bblock.get('semanticUplift', {}).get('additionalSteps', []):\n",
    "      if step['stage'] == stage:\n",
    "        step_type = step['type']\n",
    "        step_code = step.get('code')\n",
    "        if not step_code and step['ref']:\n",
    "          # Code is not inlined, but stored in remotely (URL in `ref`)\n",
    "          with urlopen(step['ref']) as f:\n",
    "            step_code = f.read().decode('utf-8')\n",
    "        if step_type == 'shacl':\n",
    "          print(f\"  -> Applying {stage} {step_type} step\")\n",
    "          shacl_graph = Graph().parse(data=step_code, format='ttl')\n",
    "          pyshacl.validate(data, shacl_graph, in_place=True, advanced=True)\n",
    "        elif step_type == 'sparql-update':\n",
    "          print(f\"  -> Applying {stage} {step_type} step\")\n",
    "          data.update(step_code)\n",
    "        elif step_type == 'sparql-construct':\n",
    "          print(f\"  -> Applying {stage} {step_type} step\")\n",
    "          data = data.query(step_code).graph\n",
    "        elif step_type == 'jq':\n",
    "          print(f\"  -> Applying {stage} {step_type} step\")\n",
    "          data = jq.compile(step_code).input_value(data).first()\n",
    "          \n",
    "    return data\n",
    "\n",
    "  print('# Input data')\n",
    "  print(json.dumps(sample_data, indent=2))\n",
    "\n",
    "  # Apply pre-JSON-LD steps, if any\n",
    "  uplift_data = apply_uplift_steps(bblock_full, 'pre', sample_data)\n",
    "\n",
    "  print('\\n# After pre steps')\n",
    "  print(json.dumps(uplift_data, indent=2))\n",
    "  \n",
    "  # Fetch JSON-LD context\n",
    "  jsonld_context = fetch_json(bblock['ldContext'])\n",
    "  # Add to JSON data - merge both objects (jsonld_context only has `@context` key)\n",
    "  jsonld_data = json.dumps({\n",
    "      **jsonld_context,\n",
    "      **uplift_data,\n",
    "    }, indent=2)\n",
    "  # base URL can be changed or omitted altogether, but it does look better when used\n",
    "  rdf_graph = Graph().parse(data=jsonld_data, format='json-ld', base='http://example.com/bblocks/')\n",
    "\n",
    "  print('\\n# After JSON-LD context')\n",
    "  print(rdf_graph.serialize())\n",
    "\n",
    "  # Apply post-JSON-LD steps, if any\n",
    "  rdf_graph = apply_uplift_steps(bblock_full, 'post', rdf_graph)\n",
    "\n",
    "  # Output data in RDF Turtle format\n",
    "  print('\\n# After post steps context')\n",
    "  print(rdf_graph.serialize())\n",
    "else:\n",
    "  print('No JSON-LD context found in bblock')"
   ]
  },
  {
   "cell_type": "markdown",
   "id": "3d02f431-d866-4e12-afb7-1bcaeb49ebfe",
   "metadata": {},
   "source": [
    "## Validating RDF\n",
    "\n",
    "If the building block contains SHACL validation shapes (either direct or inherited), we can apply those to our RDF data.\n",
    "\n",
    "SHACL shapes are stored as an object whose keys are the building block identifiers that declared them (so that inherited shapes can be detected and resolved, if necessary), and whose objects are arrays with the URLs of the documents."
   ]
  },
  {
   "cell_type": "code",
   "execution_count": 8,
   "id": "7631ce18-cd91-46c9-aa63-28648db9f556",
   "metadata": {},
   "outputs": [
    {
     "name": "stdout",
     "output_type": "stream",
     "text": [
      "# SHACL shapes\n",
      " - http://example.com/rules#testHasOneIs1\n",
      "# SHACL result: True\n",
      "Validation Report\n",
      "Conforms: True\n",
      "\n"
     ]
    }
   ],
   "source": [
    "SHACL = Namespace('http://www.w3.org/ns/shacl#')\n",
    "\n",
    "def shacl_validate(bblock: dict, graph: Graph):\n",
    "  if bblock.get('shaclRules'):\n",
    "    shacl_graph = Graph()\n",
    "    for shacl_bblock_id, shacl_urls in bblock['shaclRules'].items():\n",
    "      for shacl_url in shacl_urls:\n",
    "        shacl_graph.parse(shacl_url, format='ttl')\n",
    "    print('# SHACL shapes')\n",
    "    print(' -', '\\n - '.join(s for s in shacl_graph.subjects(RDF.type, SHACL.NodeShape)))\n",
    "    conforms, results_graph, results_text = pyshacl.validate(graph, shacl_graph=shacl_graph)\n",
    "    f = sys.stdout if conforms else sys.stderr\n",
    "    print('# SHACL result:', conforms, file=f)\n",
    "    print(results_text, file=f)\n",
    "  else:\n",
    "    print('This building block has no SHACL resources')\n",
    "\n",
    "shacl_validate(bblock_full, rdf_graph)"
   ]
  },
  {
   "cell_type": "markdown",
   "id": "29fb7666-bf4d-4f85-8144-05ad566900b8",
   "metadata": {},
   "source": [
    "If we add a change the value of the `ex:hasOne` predicate to something other than `1`, we can see how validation fails this time:"
   ]
  },
  {
   "cell_type": "code",
   "execution_count": 9,
   "id": "1cdd8bfb-ee64-45b4-8f4b-f2b827cfe368",
   "metadata": {},
   "outputs": [
    {
     "name": "stdout",
     "output_type": "stream",
     "text": [
      "# SHACL shapes\n",
      " - http://example.com/rules#testHasOneIs1\n"
     ]
    },
    {
     "name": "stderr",
     "output_type": "stream",
     "text": [
      "# SHACL result: False\n",
      "Validation Report\n",
      "Conforms: False\n",
      "Results (1):\n",
      "Constraint Violation in HasValueConstraintComponent (http://www.w3.org/ns/shacl#HasValueConstraintComponent):\n",
      "\tSeverity: sh:Violation\n",
      "\tSource Shape: [ sh:hasValue Literal(\"1\", datatype=xsd:integer) ; sh:name Literal(\"hasOne is 1\") ; sh:path ex:hasOne ]\n",
      "\tFocus Node: [ ex:exHasGenThree Literal(\"3\", datatype=xsd:integer) ; ex:hasGenDoubleString Literal(\"valuevalue\") ; ex:hasOne Literal(\"2\", datatype=xsd:integer) ; ex:hasString Literal(\"value\") ; ex:hasTwo Literal(\"2\", datatype=xsd:integer) ; ns1:hasFour Literal(\"4\", datatype=xsd:integer) ; ns1:nineBound Literal(\"false\" = False, datatype=xsd:boolean) ]\n",
      "\tResult Path: ex:hasOne\n",
      "\tMessage: Node [ ex:exHasGenThree Literal(\"3\", datatype=xsd:integer) ; ex:hasGenDoubleString Literal(\"valuevalue\") ; ex:hasOne Literal(\"2\", datatype=xsd:integer) ; ex:hasString Literal(\"value\") ; ex:hasTwo Literal(\"2\", datatype=xsd:integer) ; ns1:hasFour Literal(\"4\", datatype=xsd:integer) ; ns1:nineBound Literal(\"false\" = False, datatype=xsd:boolean) ]->ex:hasOne does not contain a value in the set: ['Literal(\"1\", datatype=xsd:integer)']\n",
      "\n"
     ]
    }
   ],
   "source": [
    "rdf_graph.update('''\n",
    "  PREFIX ex: <http://example.com/>\n",
    "  DELETE { ?s ex:hasOne 1 }\n",
    "  INSERT { ?s ex:hasOne 2 }\n",
    "  WHERE { ?s ex:hasOne 1 }\n",
    "''')\n",
    "shacl_validate(bblock_full, rdf_graph)"
   ]
  }
 ],
 "metadata": {
  "kernelspec": {
   "display_name": "Python 3 (ipykernel)",
   "language": "python",
   "name": "python3"
  },
  "language_info": {
   "codemirror_mode": {
    "name": "ipython",
    "version": 3
   },
   "file_extension": ".py",
   "mimetype": "text/x-python",
   "name": "python",
   "nbconvert_exporter": "python",
   "pygments_lexer": "ipython3",
   "version": "3.12.3"
  }
 },
 "nbformat": 4,
 "nbformat_minor": 5
}
