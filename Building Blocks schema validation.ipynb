{
 "cells": [
  {
   "cell_type": "markdown",
   "id": "c9f8e773-0308-47a8-87ee-27db8fa6641c",
   "metadata": {},
   "source": [
    "# Prerequisites \n",
    "\n",
    "To run this pipeline, you need both the `jsonschema` and `ogc-na` Python modules installed in your environment (for example, by running `pip install jsonschema ogc-na`); `rdflib` is needed as well, but it is transitively provided by `ogc-na`. If you are running this notebook inside the provided Docker image, good news: that has already been take care of for you."
   ]
  },
  {
   "cell_type": "code",
   "execution_count": null,
   "id": "ffe8e4d1-9d75-47d3-8adb-0def5a4a0b60",
   "metadata": {},
   "outputs": [],
   "source": [
    "from ogc.na.util import load_yaml\n",
    "import jsonschema\n",
    "import sys\n",
    "from pathlib import Path\n",
    "import json\n",
    "from rdflib import Graph"
   ]
  },
  {
   "cell_type": "markdown",
   "id": "fe4f4b18-e1e6-4108-b2fc-6ea723a6e73a",
   "metadata": {},
   "source": [
    "You should also know the path of a local OGC Building Blocks repository (either the central repository or a submodule) on your system; if you are using the provided Docker image, you should have already mounted it as a volume using a `-v \"/full/path/to/bbr:/notebook/bbr\"` parameter for the `docker run` command.\n",
    "\n",
    "Update the following variable accordingly:"
   ]
  },
  {
   "cell_type": "code",
   "execution_count": null,
   "id": "465cf888-4ef5-47ab-9958-0ce6349673e6",
   "metadata": {},
   "outputs": [],
   "source": [
    "BBR_LOCATION = Path('/notebook/bbr')"
   ]
  },
  {
   "cell_type": "markdown",
   "id": "06523119-339d-4622-b4d3-2cb83bc3b7bf",
   "metadata": {},
   "source": [
    "# Setting up the validation environment \n",
    "\n",
    "`jsonschema` does not work with JSON schemas written in YAML, so we are going to import our own `RefResolver` to support that."
   ]
  },
  {
   "cell_type": "code",
   "execution_count": null,
   "id": "7fc72435-31b1-4f96-8ffe-f2548266e494",
   "metadata": {},
   "outputs": [],
   "source": [
    "from ogc.na.validation import YamlSchemaRefResolver"
   ]
  },
  {
   "cell_type": "markdown",
   "id": "9ce24365-dcca-4dcc-a85b-2a09d7720a9c",
   "metadata": {},
   "source": [
    "We are also going to create a convenience function to look up schemas from a building block identifier and return a `jsonschema` validator:"
   ]
  },
  {
   "cell_type": "code",
   "execution_count": null,
   "id": "ddd347e3-ba4a-4469-baf6-680a2eeb3ebf",
   "metadata": {},
   "outputs": [],
   "source": [
    "SCHEMA_LOCATION = BBR_LOCATION / 'annotated-schemas'\n",
    "if not SCHEMA_LOCATION.is_dir():\n",
    "    SCHEMA_LOCATION = BBR_LOCATION / 'build/annotated'\n",
    "if not SCHEMA_LOCATION.is_dir():\n",
    "    raise ValueError(\"Cannot find annotated schemas\")\n",
    "else:\n",
    "    print(\"Annotated schemas found at\", SCHEMA_LOCATION)\n",
    "\n",
    "def get_subpaths(bblock_id):\n",
    "    # Build a path from splitting id on every '.' and removing the first component (\"ogc\")\n",
    "    return bblock_id.split('.')[1:]\n",
    "\n",
    "def get_validator(bblock_id):\n",
    "    bblock_subpaths = get_subpaths(bblock_id)\n",
    "    # Get the location of the schema inside SCHEMA_LOCATION\n",
    "    schema_location = SCHEMA_LOCATION / Path(*bblock_subpaths) / 'schema.yaml'\n",
    "    # Load schema contents and create validator\n",
    "    schema = load_yaml(filename=schema_location)\n",
    "    validator_cls = jsonschema.validators.validator_for(schema)\n",
    "    validator_cls.check_schema(schema)\n",
    "    resolver = YamlSchemaRefResolver(base_uri=schema_location.as_uri(), referrer=True)\n",
    "    return validator_cls(schema, resolver=resolver)"
   ]
  },
  {
   "cell_type": "markdown",
   "id": "7b4964b0-d252-4f33-bf4c-6f9cf773c457",
   "metadata": {},
   "source": [
    "# Validating an object\n",
    "\n",
    "The next step is to create (or load) a JSON object to validate it against a Building Block schema. Modify the following code to suit your needs:"
   ]
  },
  {
   "cell_type": "code",
   "execution_count": null,
   "id": "f148b4ae-eee3-4dec-bcd8-2f66e9c16eb3",
   "metadata": {},
   "outputs": [],
   "source": [
    "# Create a JSON object from a dictionary or a list\n",
    "# Alternatively you may load it from a JSON or YAML file; load_yaml() supports both:\n",
    "#   json_object = load_yaml(filename='/path/to/file.json')\n",
    "json_object = json.loads('''{\n",
    "    \"type\": \"Feature\",\n",
    "    \"properties\": {\n",
    "        \"name\": \"Santander\"\n",
    "    },\n",
    "    \"geometry\": {\n",
    "        \"coordinates\": [-3.809992773317788, 43.461934688127826],\n",
    "        \"type\": \"Point\"\n",
    "    }\n",
    "}''')\n",
    "\n",
    "# Building block identifier for validation\n",
    "bblock_id = 'ogc.geo.features.feature'\n",
    "\n",
    "# Validate\n",
    "validator = get_validator(bblock_id)\n",
    "error = jsonschema.exceptions.best_match(validator.iter_errors(json_object))\n",
    "if error is not None:\n",
    "    print(f\"Found a validation error!\\n{error}\", file=sys.stderr)\n",
    "else:\n",
    "    print(\"Validation ok\")"
   ]
  },
  {
   "cell_type": "markdown",
   "id": "3f66a255-57b1-45c5-8048-3b7b12a813bc",
   "metadata": {},
   "source": [
    "# Adding JSON-LD context\n",
    "\n",
    "If our building block provides a JSON-LD context, we can add it to our object and see the resulting RDF:"
   ]
  },
  {
   "cell_type": "code",
   "execution_count": null,
   "id": "3026bc8e-0031-47ed-850e-efc2b115b796",
   "metadata": {},
   "outputs": [],
   "source": [
    "jsonld_context_file = SCHEMA_LOCATION / Path(*get_subpaths(bblock_id)) / 'context.jsonld'\n",
    "if jsonld_context_file.is_file():\n",
    "    # Load JSON-LD context\n",
    "    with open(jsonld_context_file) as f:\n",
    "        jsonld_context = json.load(f)\n",
    "\n",
    "    # Add @context to json_object\n",
    "    jsonld_object = {\n",
    "        '@context': jsonld_context['@context'],\n",
    "        **json_object\n",
    "    }\n",
    "\n",
    "    # Parse JSON-lD object and print Turtle\n",
    "    g = Graph().parse(data=json.dumps(jsonld_object), format='json-ld')\n",
    "    print(g.serialize(format='ttl'))\n",
    "else:\n",
    "    print(\"No JSON-LD context found for\", bblock_id)"
   ]
  }
 ],
 "metadata": {
  "kernelspec": {
   "display_name": "Python 3 (ipykernel)",
   "language": "python",
   "name": "python3"
  },
  "language_info": {
   "codemirror_mode": {
    "name": "ipython",
    "version": 3
   },
   "file_extension": ".py",
   "mimetype": "text/x-python",
   "name": "python",
   "nbconvert_exporter": "python",
   "pygments_lexer": "ipython3",
   "version": "3.10.6"
  }
 },
 "nbformat": 4,
 "nbformat_minor": 5
}
